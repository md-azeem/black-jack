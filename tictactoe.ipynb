{
 "cells": [
  {
   "cell_type": "code",
   "execution_count": 1,
   "metadata": {},
   "outputs": [],
   "source": [
    "from IPython.display import clear_output\n",
    "def display_board(board):\n",
    "    print ('\\n')\n",
    "    print (board[1],'|',board[2],'|',board[3])\n",
    "    print ('---------')\n",
    "    print (board[4],'|',board[5],'|',board[6])\n",
    "    print ('---------')\n",
    "    print (board[7],'|',board[8],'|',board[9])"
   ]
  },
  {
   "cell_type": "code",
   "execution_count": 2,
   "metadata": {},
   "outputs": [],
   "source": [
    "def player_input():\n",
    "    while True:\n",
    "        marker = input('\\nPlease enter the symbol of your choice---> ').upper()\n",
    "        if marker == 'X':\n",
    "            return 'X','O'\n",
    "        elif marker == 'O':\n",
    "            return 'O','X'\n",
    "        else:\n",
    "            print('\\nYou have entered wrong symbol, Try again :)')"
   ]
  },
  {
   "cell_type": "code",
   "execution_count": 3,
   "metadata": {},
   "outputs": [],
   "source": [
    "def place_marker(board, marker, position):\n",
    "    board[position] = marker"
   ]
  },
  {
   "cell_type": "code",
   "execution_count": 4,
   "metadata": {},
   "outputs": [],
   "source": [
    "def win_check(board,player,mark):\n",
    "    if (board[1] == board[2] == board[3] == mark or board[1] == board[4] == board[7] == mark or board[1] == board[5] == board[9] == mark or\n",
    "        board[2] == board[5] == board[8] == mark or board[3] == board[6] == board[9] == mark or board[4] == board[5] == board[6] == mark or\n",
    "        board[7] == board[8] == board[9] == mark or board[3] == board[5] == board[7] == mark):\n",
    "        print(f'{player} with {mark} marker has won')\n",
    "        return True\n",
    "    else:\n",
    "        return False"
   ]
  },
  {
   "cell_type": "code",
   "execution_count": 5,
   "metadata": {},
   "outputs": [],
   "source": [
    "from random import randint\n",
    "def choose_first():\n",
    "    if randint (0, 1) == 0:\n",
    "        return 'Player1'\n",
    "    else:\n",
    "        return 'Player2'  "
   ]
  },
  {
   "cell_type": "code",
   "execution_count": 6,
   "metadata": {},
   "outputs": [],
   "source": [
    "def space_check(board,position):\n",
    "    return board[position] == ' '"
   ]
  },
  {
   "cell_type": "code",
   "execution_count": 7,
   "metadata": {},
   "outputs": [],
   "source": [
    "def player_choice(player,board):\n",
    "    while True:\n",
    "        position=int(input(f'\\n{player} enter the marker position  '))\n",
    "        if space_check(board,position):\n",
    "            break\n",
    "        else:\n",
    "            print('\\nPosition already filled')\n",
    "    return position"
   ]
  },
  {
   "cell_type": "code",
   "execution_count": 8,
   "metadata": {},
   "outputs": [],
   "source": [
    "def replay():\n",
    "    while True:\n",
    "        choice=input('Want to play again Y or N  ').upper()\n",
    "        if choice=='N'or choice=='Y':\n",
    "            return choice\n",
    "        else:\n",
    "            print('You have entered wrong choice, try again :)')"
   ]
  },
  {
   "cell_type": "code",
   "execution_count": 10,
   "metadata": {},
   "outputs": [
    {
     "name": "stdout",
     "output_type": "stream",
     "text": [
      "Welcome to tic-tac-toe\n",
      "\n",
      "Please enter the symbol of your choice---> x\n",
      "\n",
      "Player1 has choosen X\n",
      " \n",
      "Player2 has choosen O\n",
      "\n",
      "Player1 will go first\n",
      "\n",
      "\n",
      "  |   |  \n",
      "---------\n",
      "  |   |  \n",
      "---------\n",
      "  |   |  \n",
      "\n",
      "Player1 enter the marker position  1\n",
      "\n",
      "\n",
      "X |   |  \n",
      "---------\n",
      "  |   |  \n",
      "---------\n",
      "  |   |  \n",
      "\n",
      "Player2 enter the marker position  9\n",
      "\n",
      "\n",
      "X |   |  \n",
      "---------\n",
      "  |   |  \n",
      "---------\n",
      "  |   | O\n",
      "\n",
      "Player1 enter the marker position  3\n",
      "\n",
      "\n",
      "X |   | X\n",
      "---------\n",
      "  |   |  \n",
      "---------\n",
      "  |   | O\n",
      "\n",
      "Player2 enter the marker position  2\n",
      "\n",
      "\n",
      "X | O | X\n",
      "---------\n",
      "  |   |  \n",
      "---------\n",
      "  |   | O\n",
      "\n",
      "Player1 enter the marker position  7\n",
      "\n",
      "\n",
      "X | O | X\n",
      "---------\n",
      "  |   |  \n",
      "---------\n",
      "X |   | O\n",
      "\n",
      "Player2 enter the marker position  4\n",
      "\n",
      "\n",
      "X | O | X\n",
      "---------\n",
      "O |   |  \n",
      "---------\n",
      "X |   | O\n",
      "\n",
      "Player1 enter the marker position  5\n",
      "Player1 with X marker has won\n",
      "\n",
      "\n",
      "X | O | X\n",
      "---------\n",
      "O | X |  \n",
      "---------\n",
      "X |   | O\n",
      "Want to play again Y or N  n\n"
     ]
    }
   ],
   "source": [
    "print('Welcome to tic-tac-toe')\n",
    "choice = 'Y'\n",
    "while choice == 'Y':\n",
    "    test_board = [' ']*10\n",
    "    result = False\n",
    "    mark1,mark2 = player_input()\n",
    "    print(f'\\nPlayer1 has choosen {mark1}\\n \\nPlayer2 has choosen {mark2}')\n",
    "    turn = choose_first()\n",
    "    print(f'\\n{turn} will go first')\n",
    "    for chance in range(1,10):\n",
    "        display_board(test_board)\n",
    "        if result == False:\n",
    "            if turn == 'Player1':\n",
    "                position = player_choice(turn,test_board)\n",
    "                place_marker(test_board,mark1,position)\n",
    "                result = win_check(test_board,turn,mark1)\n",
    "                turn = 'Player2'\n",
    "            else:\n",
    "                position = player_choice(turn,test_board)\n",
    "                place_marker(test_board,mark2,position)\n",
    "                result = win_check(test_board,turn,mark2)\n",
    "                turn = 'Player1'\n",
    "        else:\n",
    "            break\n",
    "    if result == False:\n",
    "        print('\\nThe board is full, no one won')\n",
    "    choice=replay()"
   ]
  },
  {
   "cell_type": "code",
   "execution_count": null,
   "metadata": {},
   "outputs": [],
   "source": []
  },
  {
   "cell_type": "code",
   "execution_count": null,
   "metadata": {},
   "outputs": [],
   "source": []
  }
 ],
 "metadata": {
  "kernelspec": {
   "display_name": "Python 3",
   "language": "python",
   "name": "python3"
  },
  "language_info": {
   "codemirror_mode": {
    "name": "ipython",
    "version": 3
   },
   "file_extension": ".py",
   "mimetype": "text/x-python",
   "name": "python",
   "nbconvert_exporter": "python",
   "pygments_lexer": "ipython3",
   "version": "3.6.10"
  }
 },
 "nbformat": 4,
 "nbformat_minor": 4
}
